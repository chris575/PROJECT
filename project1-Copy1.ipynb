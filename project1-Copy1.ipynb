{
 "cells": [
  {
   "cell_type": "code",
   "execution_count": 1,
   "metadata": {},
   "outputs": [],
   "source": [
    "#import modules\n",
    "import pandas as pd\n",
    "import numpy as np\n",
    "import seaborn as sns\n",
    "import matplotlib.pyplot as plt"
   ]
  },
  {
   "cell_type": "code",
   "execution_count": 2,
   "metadata": {},
   "outputs": [],
   "source": [
    "import numpy.random as rnd\n",
    "from statsmodels.stats.outliers_influence import variance_inflation_factor\n",
    "import statsmodels.api as sm"
   ]
  },
  {
   "cell_type": "code",
   "execution_count": 3,
   "metadata": {},
   "outputs": [],
   "source": [
    "from sklearn.model_selection import StratifiedShuffleSplit"
   ]
  },
  {
   "cell_type": "code",
   "execution_count": 4,
   "metadata": {
    "scrolled": true
   },
   "outputs": [
    {
     "data": {
      "text/html": [
       "<div>\n",
       "<style scoped>\n",
       "    .dataframe tbody tr th:only-of-type {\n",
       "        vertical-align: middle;\n",
       "    }\n",
       "\n",
       "    .dataframe tbody tr th {\n",
       "        vertical-align: top;\n",
       "    }\n",
       "\n",
       "    .dataframe thead th {\n",
       "        text-align: right;\n",
       "    }\n",
       "</style>\n",
       "<table border=\"1\" class=\"dataframe\">\n",
       "  <thead>\n",
       "    <tr style=\"text-align: right;\">\n",
       "      <th></th>\n",
       "      <th>Name</th>\n",
       "      <th>Category</th>\n",
       "      <th>Region</th>\n",
       "      <th>County</th>\n",
       "      <th>Facility URL</th>\n",
       "      <th>Longitude</th>\n",
       "      <th>Latitude</th>\n",
       "      <th>Location</th>\n",
       "      <th>NYS Municipal Boundaries</th>\n",
       "      <th>New York Zip Codes</th>\n",
       "      <th>Counties</th>\n",
       "    </tr>\n",
       "  </thead>\n",
       "  <tbody>\n",
       "    <tr>\n",
       "      <th>0</th>\n",
       "      <td>Schuyler Mansion</td>\n",
       "      <td>State Historic Site</td>\n",
       "      <td>11</td>\n",
       "      <td>Albany</td>\n",
       "      <td>{'url': 'http://nysparks.com/historic-sites/33...</td>\n",
       "      <td>-73.759287</td>\n",
       "      <td>42.641323</td>\n",
       "      <td>{'latitude': '42.6413229736', 'longitude': '-7...</td>\n",
       "      <td>814</td>\n",
       "      <td>39</td>\n",
       "      <td>2030</td>\n",
       "    </tr>\n",
       "    <tr>\n",
       "      <th>1</th>\n",
       "      <td>Clermont</td>\n",
       "      <td>State Historic Site</td>\n",
       "      <td>7</td>\n",
       "      <td>Col/Dutch</td>\n",
       "      <td>{'url': 'http://nysparks.com/historic-sites/16...</td>\n",
       "      <td>-73.911040</td>\n",
       "      <td>42.083310</td>\n",
       "      <td>{'latitude': '42.0833097387', 'longitude': '-7...</td>\n",
       "      <td>522</td>\n",
       "      <td>970</td>\n",
       "      <td>619</td>\n",
       "    </tr>\n",
       "    <tr>\n",
       "      <th>2</th>\n",
       "      <td>Olana</td>\n",
       "      <td>State Historic Site</td>\n",
       "      <td>7</td>\n",
       "      <td>Columbia</td>\n",
       "      <td>{'url': 'http://nysparks.com/historic-sites/23...</td>\n",
       "      <td>-73.828760</td>\n",
       "      <td>42.214595</td>\n",
       "      <td>{'latitude': '42.2145951381', 'longitude': '-7...</td>\n",
       "      <td>517</td>\n",
       "      <td>977</td>\n",
       "      <td>619</td>\n",
       "    </tr>\n",
       "    <tr>\n",
       "      <th>3</th>\n",
       "      <td>John Burroughs Memorial</td>\n",
       "      <td>State Historic Site</td>\n",
       "      <td>5</td>\n",
       "      <td>Delaware</td>\n",
       "      <td>{'url': 'http://nysparks.com/historic-sites/3/...</td>\n",
       "      <td>-74.585969</td>\n",
       "      <td>42.294742</td>\n",
       "      <td>{'latitude': '42.2947419755', 'longitude': '-7...</td>\n",
       "      <td>559</td>\n",
       "      <td>266</td>\n",
       "      <td>2039</td>\n",
       "    </tr>\n",
       "    <tr>\n",
       "      <th>4</th>\n",
       "      <td>Staatsburgh</td>\n",
       "      <td>State Historic Site</td>\n",
       "      <td>7</td>\n",
       "      <td>Dutchess</td>\n",
       "      <td>{'url': 'http://nysparks.com/historic-sites/25...</td>\n",
       "      <td>-73.929949</td>\n",
       "      <td>41.856628</td>\n",
       "      <td>{'latitude': '41.8566275388', 'longitude': '-7...</td>\n",
       "      <td>595</td>\n",
       "      <td>1011</td>\n",
       "      <td>2040</td>\n",
       "    </tr>\n",
       "  </tbody>\n",
       "</table>\n",
       "</div>"
      ],
      "text/plain": [
       "                      Name             Category  Region     County  \\\n",
       "0         Schuyler Mansion  State Historic Site      11     Albany   \n",
       "1                 Clermont  State Historic Site       7  Col/Dutch   \n",
       "2                    Olana  State Historic Site       7   Columbia   \n",
       "3  John Burroughs Memorial  State Historic Site       5   Delaware   \n",
       "4              Staatsburgh  State Historic Site       7   Dutchess   \n",
       "\n",
       "                                        Facility URL  Longitude   Latitude  \\\n",
       "0  {'url': 'http://nysparks.com/historic-sites/33... -73.759287  42.641323   \n",
       "1  {'url': 'http://nysparks.com/historic-sites/16... -73.911040  42.083310   \n",
       "2  {'url': 'http://nysparks.com/historic-sites/23... -73.828760  42.214595   \n",
       "3  {'url': 'http://nysparks.com/historic-sites/3/... -74.585969  42.294742   \n",
       "4  {'url': 'http://nysparks.com/historic-sites/25... -73.929949  41.856628   \n",
       "\n",
       "                                            Location  \\\n",
       "0  {'latitude': '42.6413229736', 'longitude': '-7...   \n",
       "1  {'latitude': '42.0833097387', 'longitude': '-7...   \n",
       "2  {'latitude': '42.2145951381', 'longitude': '-7...   \n",
       "3  {'latitude': '42.2947419755', 'longitude': '-7...   \n",
       "4  {'latitude': '41.8566275388', 'longitude': '-7...   \n",
       "\n",
       "   NYS Municipal Boundaries  New York Zip Codes  Counties  \n",
       "0                       814                  39      2030  \n",
       "1                       522                 970       619  \n",
       "2                       517                 977       619  \n",
       "3                       559                 266      2039  \n",
       "4                       595                1011      2040  "
      ]
     },
     "execution_count": 4,
     "metadata": {},
     "output_type": "execute_result"
    }
   ],
   "source": [
    "reviews_df=pd.read_csv('Desktop/state-historic-sites.csv')\n",
    "reviews_df.head()\n"
   ]
  },
  {
   "cell_type": "code",
   "execution_count": 5,
   "metadata": {},
   "outputs": [],
   "source": [
    "from sklearn.base import BaseEstimator,TransformerMixin,RegressorMixin"
   ]
  },
  {
   "cell_type": "code",
   "execution_count": 6,
   "metadata": {},
   "outputs": [],
   "source": [
    "rnd.seed(42)"
   ]
  },
  {
   "cell_type": "code",
   "execution_count": 7,
   "metadata": {},
   "outputs": [
    {
     "data": {
      "text/plain": [
       "(35, 11)"
      ]
     },
     "execution_count": 7,
     "metadata": {},
     "output_type": "execute_result"
    }
   ],
   "source": [
    "reviews_df.shape"
   ]
  },
  {
   "cell_type": "code",
   "execution_count": 8,
   "metadata": {},
   "outputs": [
    {
     "name": "stdout",
     "output_type": "stream",
     "text": [
      "<class 'pandas.core.frame.DataFrame'>\n",
      "RangeIndex: 35 entries, 0 to 34\n",
      "Data columns (total 11 columns):\n",
      "Name                        35 non-null object\n",
      "Category                    35 non-null object\n",
      "Region                      35 non-null int64\n",
      "County                      35 non-null object\n",
      "Facility URL                33 non-null object\n",
      "Longitude                   35 non-null float64\n",
      "Latitude                    35 non-null float64\n",
      "Location                    35 non-null object\n",
      "NYS Municipal Boundaries    35 non-null int64\n",
      "New York Zip Codes          35 non-null int64\n",
      "Counties                    35 non-null int64\n",
      "dtypes: float64(2), int64(4), object(5)\n",
      "memory usage: 3.1+ KB\n"
     ]
    }
   ],
   "source": [
    "reviews_df.info()"
   ]
  },
  {
   "cell_type": "code",
   "execution_count": 9,
   "metadata": {},
   "outputs": [
    {
     "data": {
      "text/plain": [
       "{'url': 'http://nysparks.com/historic-sites/2/details.aspx'}     1\n",
       "{'url': 'http://nysparks.com/historic-sites/21/details.aspx'}    1\n",
       "{'url': 'http://nysparks.com/historic-sites/10/details.aspx'}    1\n",
       "{'url': 'http://nysparks.com/historic-sites/23/details.aspx'}    1\n",
       "{'url': 'http://nysparks.com/historic-sites/5/details.aspx'}     1\n",
       "{'url': 'http://nysparks.com/historic-sites/35/details.aspx'}    1\n",
       "{'url': 'http://nysparks.com/historic-sites/1/details.aspx'}     1\n",
       "{'url': 'http://nysparks.com/historic-sites/30/details.aspx'}    1\n",
       "{'url': 'http://nysparks.com/historic-sites/18/details.aspx'}    1\n",
       "{'url': 'http://nysparks.com/historic-sites/16/details.aspx'}    1\n",
       "{'url': 'http://nysparks.com/historic-sites/14/details.aspx'}    1\n",
       "{'url': 'http://nysparks.com/historic-sites/19/details.aspx'}    1\n",
       "{'url': 'http://nysparks.com/historic-sites/11/details.aspx'}    1\n",
       "{'url': 'http://nysparks.com/historic-sites/33/details.aspx'}    1\n",
       "{'url': 'http://nysparks.com/historic-sites/3/details.aspx'}     1\n",
       "{'url': 'http://nysparks.com/historic-sites/7/details.aspx'}     1\n",
       "{'url': 'http://nysparks.com/historic-sites/38/details.aspx'}    1\n",
       "{'url': 'http://nysparks.com/historic-sites/17/details.aspx'}    1\n",
       "{'url': 'http://nysparks.com/historic-sites/8/details.aspx'}     1\n",
       "{'url': 'http://nysparks.com/historic-sites/34/details.aspx'}    1\n",
       "{'url': 'http://nysparks.com/historic-sites/22/details.aspx'}    1\n",
       "{'url': 'http://nysparks.com/historic-sites/37/details.aspx'}    1\n",
       "{'url': 'http://nysparks.com/historic-sites/28/details.aspx'}    1\n",
       "{'url': 'http://nysparks.com/historic-sites/25/details.aspx'}    1\n",
       "{'url': 'http://nysparks.com/historic-sites/15/details.aspx'}    1\n",
       "{'url': 'http://nysparks.com/historic-sites/27/details.aspx'}    1\n",
       "{'url': 'http://nysparks.com/historic-sites/31/details.aspx'}    1\n",
       "{'url': 'http://nysparks.com/historic-sites/12/details.aspx'}    1\n",
       "{'url': 'http://nysparks.com/historic-sites/20/details.aspx'}    1\n",
       "{'url': 'http://nysparks.com/historic-sites/4/details.aspx'}     1\n",
       "{'url': 'http://nysparks.com/historic-sites/26/details.aspx'}    1\n",
       "{'url': 'http://nysparks.com/historic-sites/9/details.aspx'}     1\n",
       "{'url': 'http://nysparks.com/historic-sites/29/details.aspx'}    1\n",
       "Name: Facility URL, dtype: int64"
      ]
     },
     "execution_count": 9,
     "metadata": {},
     "output_type": "execute_result"
    }
   ],
   "source": [
    "reviews_df['Facility URL'].value_counts()"
   ]
  },
  {
   "cell_type": "code",
   "execution_count": 10,
   "metadata": {},
   "outputs": [
    {
     "data": {
      "text/html": [
       "<div>\n",
       "<style scoped>\n",
       "    .dataframe tbody tr th:only-of-type {\n",
       "        vertical-align: middle;\n",
       "    }\n",
       "\n",
       "    .dataframe tbody tr th {\n",
       "        vertical-align: top;\n",
       "    }\n",
       "\n",
       "    .dataframe thead th {\n",
       "        text-align: right;\n",
       "    }\n",
       "</style>\n",
       "<table border=\"1\" class=\"dataframe\">\n",
       "  <thead>\n",
       "    <tr style=\"text-align: right;\">\n",
       "      <th></th>\n",
       "      <th>Region</th>\n",
       "      <th>Longitude</th>\n",
       "      <th>Latitude</th>\n",
       "      <th>NYS Municipal Boundaries</th>\n",
       "      <th>New York Zip Codes</th>\n",
       "      <th>Counties</th>\n",
       "    </tr>\n",
       "  </thead>\n",
       "  <tbody>\n",
       "    <tr>\n",
       "      <th>count</th>\n",
       "      <td>35.000000</td>\n",
       "      <td>35.000000</td>\n",
       "      <td>35.000000</td>\n",
       "      <td>35.000000</td>\n",
       "      <td>35.000000</td>\n",
       "      <td>35.000000</td>\n",
       "    </tr>\n",
       "    <tr>\n",
       "      <th>mean</th>\n",
       "      <td>7.457143</td>\n",
       "      <td>-74.712387</td>\n",
       "      <td>42.478978</td>\n",
       "      <td>625.628571</td>\n",
       "      <td>799.628571</td>\n",
       "      <td>1859.400000</td>\n",
       "    </tr>\n",
       "    <tr>\n",
       "      <th>std</th>\n",
       "      <td>2.842357</td>\n",
       "      <td>1.468916</td>\n",
       "      <td>0.911058</td>\n",
       "      <td>298.635631</td>\n",
       "      <td>515.971960</td>\n",
       "      <td>571.960313</td>\n",
       "    </tr>\n",
       "    <tr>\n",
       "      <th>min</th>\n",
       "      <td>1.000000</td>\n",
       "      <td>-79.063114</td>\n",
       "      <td>40.817175</td>\n",
       "      <td>107.000000</td>\n",
       "      <td>31.000000</td>\n",
       "      <td>619.000000</td>\n",
       "    </tr>\n",
       "    <tr>\n",
       "      <th>25%</th>\n",
       "      <td>5.000000</td>\n",
       "      <td>-75.053243</td>\n",
       "      <td>41.599035</td>\n",
       "      <td>427.500000</td>\n",
       "      <td>270.500000</td>\n",
       "      <td>2040.000000</td>\n",
       "    </tr>\n",
       "    <tr>\n",
       "      <th>50%</th>\n",
       "      <td>8.000000</td>\n",
       "      <td>-74.018884</td>\n",
       "      <td>42.793733</td>\n",
       "      <td>595.000000</td>\n",
       "      <td>987.000000</td>\n",
       "      <td>2131.000000</td>\n",
       "    </tr>\n",
       "    <tr>\n",
       "      <th>75%</th>\n",
       "      <td>10.500000</td>\n",
       "      <td>-73.893495</td>\n",
       "      <td>43.020420</td>\n",
       "      <td>889.000000</td>\n",
       "      <td>1236.000000</td>\n",
       "      <td>2135.500000</td>\n",
       "    </tr>\n",
       "    <tr>\n",
       "      <th>max</th>\n",
       "      <td>11.000000</td>\n",
       "      <td>-73.302251</td>\n",
       "      <td>44.249575</td>\n",
       "      <td>1020.000000</td>\n",
       "      <td>1615.000000</td>\n",
       "      <td>2185.000000</td>\n",
       "    </tr>\n",
       "  </tbody>\n",
       "</table>\n",
       "</div>"
      ],
      "text/plain": [
       "          Region  Longitude   Latitude  NYS Municipal Boundaries  \\\n",
       "count  35.000000  35.000000  35.000000                 35.000000   \n",
       "mean    7.457143 -74.712387  42.478978                625.628571   \n",
       "std     2.842357   1.468916   0.911058                298.635631   \n",
       "min     1.000000 -79.063114  40.817175                107.000000   \n",
       "25%     5.000000 -75.053243  41.599035                427.500000   \n",
       "50%     8.000000 -74.018884  42.793733                595.000000   \n",
       "75%    10.500000 -73.893495  43.020420                889.000000   \n",
       "max    11.000000 -73.302251  44.249575               1020.000000   \n",
       "\n",
       "       New York Zip Codes     Counties  \n",
       "count           35.000000    35.000000  \n",
       "mean           799.628571  1859.400000  \n",
       "std            515.971960   571.960313  \n",
       "min             31.000000   619.000000  \n",
       "25%            270.500000  2040.000000  \n",
       "50%            987.000000  2131.000000  \n",
       "75%           1236.000000  2135.500000  \n",
       "max           1615.000000  2185.000000  "
      ]
     },
     "execution_count": 10,
     "metadata": {},
     "output_type": "execute_result"
    }
   ],
   "source": [
    "reviews_df.describe()"
   ]
  },
  {
   "cell_type": "code",
   "execution_count": 11,
   "metadata": {},
   "outputs": [
    {
     "data": {
      "text/plain": [
       "array([[<matplotlib.axes._subplots.AxesSubplot object at 0x000000126FEE5C50>,\n",
       "        <matplotlib.axes._subplots.AxesSubplot object at 0x00000012701BF438>],\n",
       "       [<matplotlib.axes._subplots.AxesSubplot object at 0x00000012701F29E8>,\n",
       "        <matplotlib.axes._subplots.AxesSubplot object at 0x0000001270226F98>],\n",
       "       [<matplotlib.axes._subplots.AxesSubplot object at 0x0000001270262470>,\n",
       "        <matplotlib.axes._subplots.AxesSubplot object at 0x0000001270293A20>]],\n",
       "      dtype=object)"
      ]
     },
     "execution_count": 11,
     "metadata": {},
     "output_type": "execute_result"
    },
    {
     "data": {
      "image/png": "[encoded data removed]",
      "text/plain": [
       "<Figure size 1080x720 with 6 Axes>"
      ]
     },
     "metadata": {
      "needs_background": "light"
     },
     "output_type": "display_data"
    }
   ],
   "source": [
    "reviews_df.hist(bins=50,figsize=(15,10))"
   ]
  },
  {
   "cell_type": "code",
   "execution_count": 12,
   "metadata": {},
   "outputs": [],
   "source": [
    "import numpy as np\n",
    "\n",
    "# For illustration only. Sklearn has train_test_split()\n",
    "def split_train_test(data, test_ratio):\n",
    "    shuffled_indices = np.random.permutation(len(data))\n",
    "    test_set_size = int(len(data) * test_ratio)\n",
    "    test_indices = shuffled_indices[:test_set_size]\n",
    "    train_indices = shuffled_indices[test_set_size:]\n",
    "    return data.iloc[train_indices], data.iloc[test_indices]"
   ]
  },
  {
   "cell_type": "code",
   "execution_count": 13,
   "metadata": {},
   "outputs": [
    {
     "name": "stdout",
     "output_type": "stream",
     "text": [
      "28 train + 7 test\n"
     ]
    }
   ],
   "source": [
    "train_set, test_set = split_train_test(reviews_df, 0.2)\n",
    "print(len(train_set), \"train +\", len(test_set), \"test\")"
   ]
  },
  {
   "cell_type": "code",
   "execution_count": 14,
   "metadata": {},
   "outputs": [],
   "source": [
    "from zlib import crc32\n",
    "\n",
    "def test_set_check(identifier, test_ratio):\n",
    "    return crc32(np.int64(identifier)) & 0xffffffff < test_ratio * 2**32\n",
    "\n",
    "def split_train_test_by_id(data, test_ratio, id_column):\n",
    "    ids = data[id_column]\n",
    "    in_test_set = ids.apply(lambda id_: test_set_check(id_, test_ratio))\n",
    "    return data.loc[~in_test_set], data.loc[in_test_set]"
   ]
  },
  {
   "cell_type": "code",
   "execution_count": 15,
   "metadata": {},
   "outputs": [],
   "source": [
    "import hashlib\n",
    "\n",
    "def test_set_check(identifier, test_ratio, hash=hashlib.md5):\n",
    "    return hash(np.int64(identifier)).digest()[-1] < 256 * test_ratio"
   ]
  },
  {
   "cell_type": "code",
   "execution_count": 16,
   "metadata": {},
   "outputs": [],
   "source": [
    "def test_set_check(identifier, test_ratio, hash=hashlib.md5):\n",
    "    return bytearray(hash(np.int64(identifier)).digest())[-1] < 256 * test_ratio"
   ]
  },
  {
   "cell_type": "code",
   "execution_count": 17,
   "metadata": {},
   "outputs": [
    {
     "data": {
      "text/html": [
       "<div>\n",
       "<style scoped>\n",
       "    .dataframe tbody tr th:only-of-type {\n",
       "        vertical-align: middle;\n",
       "    }\n",
       "\n",
       "    .dataframe tbody tr th {\n",
       "        vertical-align: top;\n",
       "    }\n",
       "\n",
       "    .dataframe thead th {\n",
       "        text-align: right;\n",
       "    }\n",
       "</style>\n",
       "<table border=\"1\" class=\"dataframe\">\n",
       "  <thead>\n",
       "    <tr style=\"text-align: right;\">\n",
       "      <th></th>\n",
       "      <th>Name</th>\n",
       "      <th>Category</th>\n",
       "      <th>Region</th>\n",
       "      <th>County</th>\n",
       "      <th>Facility URL</th>\n",
       "      <th>Longitude</th>\n",
       "      <th>Latitude</th>\n",
       "      <th>Location</th>\n",
       "      <th>NYS Municipal Boundaries</th>\n",
       "      <th>New York Zip Codes</th>\n",
       "      <th>Counties</th>\n",
       "    </tr>\n",
       "  </thead>\n",
       "  <tbody>\n",
       "    <tr>\n",
       "      <th>26</th>\n",
       "      <td>Hyde Hall</td>\n",
       "      <td>State Historic Site</td>\n",
       "      <td>5</td>\n",
       "      <td>Otsego</td>\n",
       "      <td>{'url': 'http://nysparks.com/historic-sites/11...</td>\n",
       "      <td>-74.873997</td>\n",
       "      <td>42.793733</td>\n",
       "      <td>{'latitude': '42.7937333296', 'longitude': '-7...</td>\n",
       "      <td>898</td>\n",
       "      <td>540</td>\n",
       "      <td>2136</td>\n",
       "    </tr>\n",
       "    <tr>\n",
       "      <th>13</th>\n",
       "      <td>Schoharie Crossing</td>\n",
       "      <td>State Historic Site</td>\n",
       "      <td>11</td>\n",
       "      <td>Montgomery</td>\n",
       "      <td>{'url': 'http://nysparks.com/historic-sites/27...</td>\n",
       "      <td>-74.267570</td>\n",
       "      <td>42.949345</td>\n",
       "      <td>{'latitude': '42.9493448538', 'longitude': '-7...</td>\n",
       "      <td>493</td>\n",
       "      <td>1218</td>\n",
       "      <td>624</td>\n",
       "    </tr>\n",
       "    <tr>\n",
       "      <th>24</th>\n",
       "      <td>Washington's Headquarters</td>\n",
       "      <td>State Historic Site</td>\n",
       "      <td>8</td>\n",
       "      <td>Orange</td>\n",
       "      <td>{'url': 'http://nysparks.com/historic-sites/17...</td>\n",
       "      <td>-74.009608</td>\n",
       "      <td>41.497705</td>\n",
       "      <td>{'latitude': '41.4977050471', 'longitude': '-7...</td>\n",
       "      <td>891</td>\n",
       "      <td>987</td>\n",
       "      <td>2134</td>\n",
       "    </tr>\n",
       "    <tr>\n",
       "      <th>21</th>\n",
       "      <td>New Windsor Cantonement</td>\n",
       "      <td>State Historic Site</td>\n",
       "      <td>8</td>\n",
       "      <td>Orange</td>\n",
       "      <td>{'url': 'http://nysparks.com/historic-sites/22...</td>\n",
       "      <td>-74.059457</td>\n",
       "      <td>41.473393</td>\n",
       "      <td>{'latitude': '41.4733927813', 'longitude': '-7...</td>\n",
       "      <td>889</td>\n",
       "      <td>988</td>\n",
       "      <td>2134</td>\n",
       "    </tr>\n",
       "    <tr>\n",
       "      <th>15</th>\n",
       "      <td>Steuben Memorial</td>\n",
       "      <td>State Historic Site</td>\n",
       "      <td>5</td>\n",
       "      <td>Oneida</td>\n",
       "      <td>{'url': 'http://nysparks.com/historic-sites/2/...</td>\n",
       "      <td>-75.232489</td>\n",
       "      <td>43.338106</td>\n",
       "      <td>{'latitude': '43.3381056996', 'longitude': '-7...</td>\n",
       "      <td>986</td>\n",
       "      <td>1364</td>\n",
       "      <td>625</td>\n",
       "    </tr>\n",
       "  </tbody>\n",
       "</table>\n",
       "</div>"
      ],
      "text/plain": [
       "                         Name             Category  Region      County  \\\n",
       "26                  Hyde Hall  State Historic Site       5      Otsego   \n",
       "13         Schoharie Crossing  State Historic Site      11  Montgomery   \n",
       "24  Washington's Headquarters  State Historic Site       8      Orange   \n",
       "21    New Windsor Cantonement  State Historic Site       8      Orange   \n",
       "15           Steuben Memorial  State Historic Site       5      Oneida   \n",
       "\n",
       "                                         Facility URL  Longitude   Latitude  \\\n",
       "26  {'url': 'http://nysparks.com/historic-sites/11... -74.873997  42.793733   \n",
       "13  {'url': 'http://nysparks.com/historic-sites/27... -74.267570  42.949345   \n",
       "24  {'url': 'http://nysparks.com/historic-sites/17... -74.009608  41.497705   \n",
       "21  {'url': 'http://nysparks.com/historic-sites/22... -74.059457  41.473393   \n",
       "15  {'url': 'http://nysparks.com/historic-sites/2/... -75.232489  43.338106   \n",
       "\n",
       "                                             Location  \\\n",
       "26  {'latitude': '42.7937333296', 'longitude': '-7...   \n",
       "13  {'latitude': '42.9493448538', 'longitude': '-7...   \n",
       "24  {'latitude': '41.4977050471', 'longitude': '-7...   \n",
       "21  {'latitude': '41.4733927813', 'longitude': '-7...   \n",
       "15  {'latitude': '43.3381056996', 'longitude': '-7...   \n",
       "\n",
       "    NYS Municipal Boundaries  New York Zip Codes  Counties  \n",
       "26                       898                 540      2136  \n",
       "13                       493                1218       624  \n",
       "24                       891                 987      2134  \n",
       "21                       889                 988      2134  \n",
       "15                       986                1364       625  "
      ]
     },
     "execution_count": 17,
     "metadata": {},
     "output_type": "execute_result"
    }
   ],
   "source": [
    "test_set.head()"
   ]
  },
  {
   "cell_type": "code",
   "execution_count": 18,
   "metadata": {},
   "outputs": [],
   "source": [
    "from sklearn.model_selection import train_test_split   #HELPS US TO SPLIT THE DATASET INTO MULTIPLE COLS.\n",
    "\n",
    "train_set, test_set = train_test_split(reviews_df, test_size=0.2, random_state=42)"
   ]
  },
  {
   "cell_type": "code",
   "execution_count": 19,
   "metadata": {},
   "outputs": [
    {
     "data": {
      "text/html": [
       "<div>\n",
       "<style scoped>\n",
       "    .dataframe tbody tr th:only-of-type {\n",
       "        vertical-align: middle;\n",
       "    }\n",
       "\n",
       "    .dataframe tbody tr th {\n",
       "        vertical-align: top;\n",
       "    }\n",
       "\n",
       "    .dataframe thead th {\n",
       "        text-align: right;\n",
       "    }\n",
       "</style>\n",
       "<table border=\"1\" class=\"dataframe\">\n",
       "  <thead>\n",
       "    <tr style=\"text-align: right;\">\n",
       "      <th></th>\n",
       "      <th>Name</th>\n",
       "      <th>Category</th>\n",
       "      <th>Region</th>\n",
       "      <th>County</th>\n",
       "      <th>Facility URL</th>\n",
       "      <th>Longitude</th>\n",
       "      <th>Latitude</th>\n",
       "      <th>Location</th>\n",
       "      <th>NYS Municipal Boundaries</th>\n",
       "      <th>New York Zip Codes</th>\n",
       "      <th>Counties</th>\n",
       "    </tr>\n",
       "  </thead>\n",
       "  <tbody>\n",
       "    <tr>\n",
       "      <th>26</th>\n",
       "      <td>Hyde Hall</td>\n",
       "      <td>State Historic Site</td>\n",
       "      <td>5</td>\n",
       "      <td>Otsego</td>\n",
       "      <td>{'url': 'http://nysparks.com/historic-sites/11...</td>\n",
       "      <td>-74.873997</td>\n",
       "      <td>42.793733</td>\n",
       "      <td>{'latitude': '42.7937333296', 'longitude': '-7...</td>\n",
       "      <td>898</td>\n",
       "      <td>540</td>\n",
       "      <td>2136</td>\n",
       "    </tr>\n",
       "    <tr>\n",
       "      <th>13</th>\n",
       "      <td>Schoharie Crossing</td>\n",
       "      <td>State Historic Site</td>\n",
       "      <td>11</td>\n",
       "      <td>Montgomery</td>\n",
       "      <td>{'url': 'http://nysparks.com/historic-sites/27...</td>\n",
       "      <td>-74.267570</td>\n",
       "      <td>42.949345</td>\n",
       "      <td>{'latitude': '42.9493448538', 'longitude': '-7...</td>\n",
       "      <td>493</td>\n",
       "      <td>1218</td>\n",
       "      <td>624</td>\n",
       "    </tr>\n",
       "    <tr>\n",
       "      <th>24</th>\n",
       "      <td>Washington's Headquarters</td>\n",
       "      <td>State Historic Site</td>\n",
       "      <td>8</td>\n",
       "      <td>Orange</td>\n",
       "      <td>{'url': 'http://nysparks.com/historic-sites/17...</td>\n",
       "      <td>-74.009608</td>\n",
       "      <td>41.497705</td>\n",
       "      <td>{'latitude': '41.4977050471', 'longitude': '-7...</td>\n",
       "      <td>891</td>\n",
       "      <td>987</td>\n",
       "      <td>2134</td>\n",
       "    </tr>\n",
       "    <tr>\n",
       "      <th>21</th>\n",
       "      <td>New Windsor Cantonement</td>\n",
       "      <td>State Historic Site</td>\n",
       "      <td>8</td>\n",
       "      <td>Orange</td>\n",
       "      <td>{'url': 'http://nysparks.com/historic-sites/22...</td>\n",
       "      <td>-74.059457</td>\n",
       "      <td>41.473393</td>\n",
       "      <td>{'latitude': '41.4733927813', 'longitude': '-7...</td>\n",
       "      <td>889</td>\n",
       "      <td>988</td>\n",
       "      <td>2134</td>\n",
       "    </tr>\n",
       "    <tr>\n",
       "      <th>15</th>\n",
       "      <td>Steuben Memorial</td>\n",
       "      <td>State Historic Site</td>\n",
       "      <td>5</td>\n",
       "      <td>Oneida</td>\n",
       "      <td>{'url': 'http://nysparks.com/historic-sites/2/...</td>\n",
       "      <td>-75.232489</td>\n",
       "      <td>43.338106</td>\n",
       "      <td>{'latitude': '43.3381056996', 'longitude': '-7...</td>\n",
       "      <td>986</td>\n",
       "      <td>1364</td>\n",
       "      <td>625</td>\n",
       "    </tr>\n",
       "  </tbody>\n",
       "</table>\n",
       "</div>"
      ],
      "text/plain": [
       "                         Name             Category  Region      County  \\\n",
       "26                  Hyde Hall  State Historic Site       5      Otsego   \n",
       "13         Schoharie Crossing  State Historic Site      11  Montgomery   \n",
       "24  Washington's Headquarters  State Historic Site       8      Orange   \n",
       "21    New Windsor Cantonement  State Historic Site       8      Orange   \n",
       "15           Steuben Memorial  State Historic Site       5      Oneida   \n",
       "\n",
       "                                         Facility URL  Longitude   Latitude  \\\n",
       "26  {'url': 'http://nysparks.com/historic-sites/11... -74.873997  42.793733   \n",
       "13  {'url': 'http://nysparks.com/historic-sites/27... -74.267570  42.949345   \n",
       "24  {'url': 'http://nysparks.com/historic-sites/17... -74.009608  41.497705   \n",
       "21  {'url': 'http://nysparks.com/historic-sites/22... -74.059457  41.473393   \n",
       "15  {'url': 'http://nysparks.com/historic-sites/2/... -75.232489  43.338106   \n",
       "\n",
       "                                             Location  \\\n",
       "26  {'latitude': '42.7937333296', 'longitude': '-7...   \n",
       "13  {'latitude': '42.9493448538', 'longitude': '-7...   \n",
       "24  {'latitude': '41.4977050471', 'longitude': '-7...   \n",
       "21  {'latitude': '41.4733927813', 'longitude': '-7...   \n",
       "15  {'latitude': '43.3381056996', 'longitude': '-7...   \n",
       "\n",
       "    NYS Municipal Boundaries  New York Zip Codes  Counties  \n",
       "26                       898                 540      2136  \n",
       "13                       493                1218       624  \n",
       "24                       891                 987      2134  \n",
       "21                       889                 988      2134  \n",
       "15                       986                1364       625  "
      ]
     },
     "execution_count": 19,
     "metadata": {},
     "output_type": "execute_result"
    }
   ],
   "source": [
    "test_set.head()"
   ]
  },
  {
   "cell_type": "code",
   "execution_count": 20,
   "metadata": {},
   "outputs": [
    {
     "data": {
      "text/plain": [
       "<matplotlib.axes._subplots.AxesSubplot at 0x1270a79358>"
      ]
     },
     "execution_count": 20,
     "metadata": {},
     "output_type": "execute_result"
    },
    {
     "data": {
      "image/png": "[encoded data removed]",
      "text/plain": [
       "<Figure size 432x288 with 1 Axes>"
      ]
     },
     "metadata": {
      "needs_background": "light"
     },
     "output_type": "display_data"
    }
   ],
   "source": [
    "reviews_df[\"New York Zip Codes\"].hist()"
   ]
  },
  {
   "cell_type": "code",
   "execution_count": 21,
   "metadata": {},
   "outputs": [
    {
     "data": {
      "text/plain": [
       "988     0.085714\n",
       "540     0.028571\n",
       "977     0.028571\n",
       "987     0.028571\n",
       "1562    0.028571\n",
       "1238    0.028571\n",
       "1364    0.028571\n",
       "275     0.028571\n",
       "1234    0.028571\n",
       "1615    0.028571\n",
       "413     0.028571\n",
       "78      0.028571\n",
       "970     0.028571\n",
       "70      0.028571\n",
       "1218    0.028571\n",
       "1281    0.028571\n",
       "220     0.028571\n",
       "1441    0.028571\n",
       "1021    0.028571\n",
       "31      0.028571\n",
       "1121    0.028571\n",
       "354     0.028571\n",
       "93      0.028571\n",
       "667     0.028571\n",
       "39      0.028571\n",
       "1309    0.028571\n",
       "233     0.028571\n",
       "1254    0.028571\n",
       "1492    0.028571\n",
       "1011    0.028571\n",
       "570     0.028571\n",
       "266     0.028571\n",
       "79      0.028571\n",
       "Name: New York Zip Codes, dtype: float64"
      ]
     },
     "execution_count": 21,
     "metadata": {},
     "output_type": "execute_result"
    }
   ],
   "source": [
    "reviews_df[\"New York Zip Codes\"].value_counts() / len(reviews_df)"
   ]
  },
  {
   "cell_type": "code",
   "execution_count": 22,
   "metadata": {},
   "outputs": [],
   "source": [
    "corr_matrix = reviews_df.corr()"
   ]
  },
  {
   "cell_type": "code",
   "execution_count": 23,
   "metadata": {},
   "outputs": [
    {
     "data": {
      "text/plain": [
       "NYS Municipal Boundaries    1.000000\n",
       "New York Zip Codes          0.306741\n",
       "Longitude                   0.196116\n",
       "Region                     -0.032088\n",
       "Counties                   -0.052997\n",
       "Latitude                   -0.380460\n",
       "Name: NYS Municipal Boundaries, dtype: float64"
      ]
     },
     "execution_count": 23,
     "metadata": {},
     "output_type": "execute_result"
    }
   ],
   "source": [
    "corr_matrix[\"NYS Municipal Boundaries\"].sort_values(ascending=False)"
   ]
  },
  {
   "cell_type": "code",
   "execution_count": 24,
   "metadata": {},
   "outputs": [
    {
     "ename": "NameError",
     "evalue": "name 'save_fig' is not defined",
     "output_type": "error",
     "traceback": [
      "\u001b[1;31m---------------------------------------------------------------------------\u001b[0m",
      "\u001b[1;31mNameError\u001b[0m                                 Traceback (most recent call last)",
      "\u001b[1;32m<ipython-input-24-8ec53bdd1287>\u001b[0m in \u001b[0;36m<module>\u001b[1;34m\u001b[0m\n\u001b[0;32m      5\u001b[0m               \"Latitude\"]\n\u001b[0;32m      6\u001b[0m \u001b[0mscatter_matrix\u001b[0m\u001b[1;33m(\u001b[0m\u001b[0mreviews_df\u001b[0m\u001b[1;33m[\u001b[0m\u001b[0mattributes\u001b[0m\u001b[1;33m]\u001b[0m\u001b[1;33m,\u001b[0m \u001b[0mfigsize\u001b[0m\u001b[1;33m=\u001b[0m\u001b[1;33m(\u001b[0m\u001b[1;36m12\u001b[0m\u001b[1;33m,\u001b[0m \u001b[1;36m8\u001b[0m\u001b[1;33m)\u001b[0m\u001b[1;33m)\u001b[0m\u001b[1;33m\u001b[0m\u001b[1;33m\u001b[0m\u001b[0m\n\u001b[1;32m----> 7\u001b[1;33m \u001b[0msave_fig\u001b[0m\u001b[1;33m(\u001b[0m\u001b[1;34m\"scatter_matrix_plot\"\u001b[0m\u001b[1;33m)\u001b[0m\u001b[1;33m\u001b[0m\u001b[1;33m\u001b[0m\u001b[0m\n\u001b[0m",
      "\u001b[1;31mNameError\u001b[0m: name 'save_fig' is not defined"
     ]
    },
    {
     "data": {
      "image/png": "[encoded data removed]",
      "text/plain": [
       "<Figure size 864x576 with 16 Axes>"
      ]
     },
     "metadata": {
      "needs_background": "light"
     },
     "output_type": "display_data"
    }
   ],
   "source": [
    "# from pandas.tools.plotting import scatter_matrix # For older versions of Pandas\n",
    "from pandas.plotting import scatter_matrix\n",
    "\n",
    "attributes = [\"NYS Municipal Boundaries\", \"Region\", \"Longitude\",\n",
    "              \"Latitude\"]\n",
    "scatter_matrix(reviews_df[attributes], figsize=(12, 8))\n",
    "save_fig(\"scatter_matrix_plot\")"
   ]
  },
  {
   "cell_type": "code",
   "execution_count": 25,
   "metadata": {},
   "outputs": [
    {
     "ename": "NameError",
     "evalue": "name 'save_fig' is not defined",
     "output_type": "error",
     "traceback": [
      "\u001b[1;31m---------------------------------------------------------------------------\u001b[0m",
      "\u001b[1;31mNameError\u001b[0m                                 Traceback (most recent call last)",
      "\u001b[1;32m<ipython-input-25-c860d65ef0f9>\u001b[0m in \u001b[0;36m<module>\u001b[1;34m\u001b[0m\n\u001b[0;32m      2\u001b[0m              alpha=0.1)\n\u001b[0;32m      3\u001b[0m \u001b[0mplt\u001b[0m\u001b[1;33m.\u001b[0m\u001b[0maxis\u001b[0m\u001b[1;33m(\u001b[0m\u001b[1;33m[\u001b[0m\u001b[1;36m0\u001b[0m\u001b[1;33m,\u001b[0m \u001b[1;36m16\u001b[0m\u001b[1;33m,\u001b[0m \u001b[1;36m0\u001b[0m\u001b[1;33m,\u001b[0m \u001b[1;36m550000\u001b[0m\u001b[1;33m]\u001b[0m\u001b[1;33m)\u001b[0m\u001b[1;33m\u001b[0m\u001b[1;33m\u001b[0m\u001b[0m\n\u001b[1;32m----> 4\u001b[1;33m \u001b[0msave_fig\u001b[0m\u001b[1;33m(\u001b[0m\u001b[1;34m\"NYS Municipal Boundaries_vs_New York Zip Codes_scatterplot\"\u001b[0m\u001b[1;33m)\u001b[0m\u001b[1;33m\u001b[0m\u001b[1;33m\u001b[0m\u001b[0m\n\u001b[0m",
      "\u001b[1;31mNameError\u001b[0m: name 'save_fig' is not defined"
     ]
    },
    {
     "data": {
      "image/png": "[encoded data removed]",
      "text/plain": [
       "<Figure size 432x288 with 1 Axes>"
      ]
     },
     "metadata": {
      "needs_background": "light"
     },
     "output_type": "display_data"
    }
   ],
   "source": [
    "reviews_df.plot(kind=\"scatter\", x=\"NYS Municipal Boundaries\", y=\"New York Zip Codes\",\n",
    "             alpha=0.1)\n",
    "plt.axis([0, 16, 0, 550000])\n",
    "save_fig(\"NYS Municipal Boundaries_vs_New York Zip Codes_scatterplot\")"
   ]
  },
  {
   "cell_type": "code",
   "execution_count": 26,
   "metadata": {},
   "outputs": [
    {
     "data": {
      "text/plain": [
       "New York Zip Codes          1.000000\n",
       "Longitude                   0.353676\n",
       "NYS Municipal Boundaries    0.306741\n",
       "Region                      0.231932\n",
       "Counties                   -0.365689\n",
       "Latitude                   -0.399854\n",
       "Name: New York Zip Codes, dtype: float64"
      ]
     },
     "execution_count": 26,
     "metadata": {},
     "output_type": "execute_result"
    }
   ],
   "source": [
    "corr_matrix = reviews_df.corr()\n",
    "corr_matrix[\"New York Zip Codes\"].sort_values(ascending=False)"
   ]
  },
  {
   "cell_type": "code",
   "execution_count": 27,
   "metadata": {},
   "outputs": [
    {
     "data": {
      "image/png": "[encoded data removed]",
      "text/plain": [
       "<Figure size 432x288 with 1 Axes>"
      ]
     },
     "metadata": {
      "needs_background": "light"
     },
     "output_type": "display_data"
    }
   ],
   "source": [
    "reviews_df.plot(kind=\"scatter\", x=\"Counties\", y=\"Region\",\n",
    "             alpha=0.2)\n",
    "plt.axis([0, 5, 0, 520000])\n",
    "plt.show()"
   ]
  },
  {
   "cell_type": "code",
   "execution_count": 28,
   "metadata": {},
   "outputs": [
    {
     "data": {
      "text/html": [
       "<div>\n",
       "<style scoped>\n",
       "    .dataframe tbody tr th:only-of-type {\n",
       "        vertical-align: middle;\n",
       "    }\n",
       "\n",
       "    .dataframe tbody tr th {\n",
       "        vertical-align: top;\n",
       "    }\n",
       "\n",
       "    .dataframe thead th {\n",
       "        text-align: right;\n",
       "    }\n",
       "</style>\n",
       "<table border=\"1\" class=\"dataframe\">\n",
       "  <thead>\n",
       "    <tr style=\"text-align: right;\">\n",
       "      <th></th>\n",
       "      <th>Region</th>\n",
       "      <th>Longitude</th>\n",
       "      <th>Latitude</th>\n",
       "      <th>NYS Municipal Boundaries</th>\n",
       "      <th>New York Zip Codes</th>\n",
       "      <th>Counties</th>\n",
       "    </tr>\n",
       "  </thead>\n",
       "  <tbody>\n",
       "    <tr>\n",
       "      <th>count</th>\n",
       "      <td>35.000000</td>\n",
       "      <td>35.000000</td>\n",
       "      <td>35.000000</td>\n",
       "      <td>35.000000</td>\n",
       "      <td>35.000000</td>\n",
       "      <td>35.000000</td>\n",
       "    </tr>\n",
       "    <tr>\n",
       "      <th>mean</th>\n",
       "      <td>7.457143</td>\n",
       "      <td>-74.712387</td>\n",
       "      <td>42.478978</td>\n",
       "      <td>625.628571</td>\n",
       "      <td>799.628571</td>\n",
       "      <td>1859.400000</td>\n",
       "    </tr>\n",
       "    <tr>\n",
       "      <th>std</th>\n",
       "      <td>2.842357</td>\n",
       "      <td>1.468916</td>\n",
       "      <td>0.911058</td>\n",
       "      <td>298.635631</td>\n",
       "      <td>515.971960</td>\n",
       "      <td>571.960313</td>\n",
       "    </tr>\n",
       "    <tr>\n",
       "      <th>min</th>\n",
       "      <td>1.000000</td>\n",
       "      <td>-79.063114</td>\n",
       "      <td>40.817175</td>\n",
       "      <td>107.000000</td>\n",
       "      <td>31.000000</td>\n",
       "      <td>619.000000</td>\n",
       "    </tr>\n",
       "    <tr>\n",
       "      <th>25%</th>\n",
       "      <td>5.000000</td>\n",
       "      <td>-75.053243</td>\n",
       "      <td>41.599035</td>\n",
       "      <td>427.500000</td>\n",
       "      <td>270.500000</td>\n",
       "      <td>2040.000000</td>\n",
       "    </tr>\n",
       "    <tr>\n",
       "      <th>50%</th>\n",
       "      <td>8.000000</td>\n",
       "      <td>-74.018884</td>\n",
       "      <td>42.793733</td>\n",
       "      <td>595.000000</td>\n",
       "      <td>987.000000</td>\n",
       "      <td>2131.000000</td>\n",
       "    </tr>\n",
       "    <tr>\n",
       "      <th>75%</th>\n",
       "      <td>10.500000</td>\n",
       "      <td>-73.893495</td>\n",
       "      <td>43.020420</td>\n",
       "      <td>889.000000</td>\n",
       "      <td>1236.000000</td>\n",
       "      <td>2135.500000</td>\n",
       "    </tr>\n",
       "    <tr>\n",
       "      <th>max</th>\n",
       "      <td>11.000000</td>\n",
       "      <td>-73.302251</td>\n",
       "      <td>44.249575</td>\n",
       "      <td>1020.000000</td>\n",
       "      <td>1615.000000</td>\n",
       "      <td>2185.000000</td>\n",
       "    </tr>\n",
       "  </tbody>\n",
       "</table>\n",
       "</div>"
      ],
      "text/plain": [
       "          Region  Longitude   Latitude  NYS Municipal Boundaries  \\\n",
       "count  35.000000  35.000000  35.000000                 35.000000   \n",
       "mean    7.457143 -74.712387  42.478978                625.628571   \n",
       "std     2.842357   1.468916   0.911058                298.635631   \n",
       "min     1.000000 -79.063114  40.817175                107.000000   \n",
       "25%     5.000000 -75.053243  41.599035                427.500000   \n",
       "50%     8.000000 -74.018884  42.793733                595.000000   \n",
       "75%    10.500000 -73.893495  43.020420                889.000000   \n",
       "max    11.000000 -73.302251  44.249575               1020.000000   \n",
       "\n",
       "       New York Zip Codes     Counties  \n",
       "count           35.000000    35.000000  \n",
       "mean           799.628571  1859.400000  \n",
       "std            515.971960   571.960313  \n",
       "min             31.000000   619.000000  \n",
       "25%            270.500000  2040.000000  \n",
       "50%            987.000000  2131.000000  \n",
       "75%           1236.000000  2135.500000  \n",
       "max           1615.000000  2185.000000  "
      ]
     },
     "execution_count": 28,
     "metadata": {},
     "output_type": "execute_result"
    }
   ],
   "source": [
    "reviews_df.describe()"
   ]
  },
  {
   "cell_type": "code",
   "execution_count": 29,
   "metadata": {},
   "outputs": [
    {
     "data": {
      "text/html": [
       "<div>\n",
       "<style scoped>\n",
       "    .dataframe tbody tr th:only-of-type {\n",
       "        vertical-align: middle;\n",
       "    }\n",
       "\n",
       "    .dataframe tbody tr th {\n",
       "        vertical-align: top;\n",
       "    }\n",
       "\n",
       "    .dataframe thead th {\n",
       "        text-align: right;\n",
       "    }\n",
       "</style>\n",
       "<table border=\"1\" class=\"dataframe\">\n",
       "  <thead>\n",
       "    <tr style=\"text-align: right;\">\n",
       "      <th></th>\n",
       "      <th>Name</th>\n",
       "      <th>Category</th>\n",
       "      <th>Region</th>\n",
       "      <th>County</th>\n",
       "      <th>Facility URL</th>\n",
       "      <th>Longitude</th>\n",
       "      <th>Latitude</th>\n",
       "      <th>Location</th>\n",
       "      <th>NYS Municipal Boundaries</th>\n",
       "      <th>New York Zip Codes</th>\n",
       "      <th>Counties</th>\n",
       "    </tr>\n",
       "  </thead>\n",
       "  <tbody>\n",
       "    <tr>\n",
       "      <th>18</th>\n",
       "      <td>Parrot Hall</td>\n",
       "      <td>State Historic Site</td>\n",
       "      <td>4</td>\n",
       "      <td>Ontario</td>\n",
       "      <td>NaN</td>\n",
       "      <td>-77.008814</td>\n",
       "      <td>42.876774</td>\n",
       "      <td>{'latitude': '42.8767739578', 'longitude': '-7...</td>\n",
       "      <td>809</td>\n",
       "      <td>233</td>\n",
       "      <td>2133</td>\n",
       "    </tr>\n",
       "    <tr>\n",
       "      <th>30</th>\n",
       "      <td>Rexford Aqueduct</td>\n",
       "      <td>State Historic Site</td>\n",
       "      <td>11</td>\n",
       "      <td>Sara/Schen</td>\n",
       "      <td>NaN</td>\n",
       "      <td>-73.887676</td>\n",
       "      <td>42.849265</td>\n",
       "      <td>{'latitude': '42.8492649622', 'longitude': '-7...</td>\n",
       "      <td>107</td>\n",
       "      <td>78</td>\n",
       "      <td>2141</td>\n",
       "    </tr>\n",
       "  </tbody>\n",
       "</table>\n",
       "</div>"
      ],
      "text/plain": [
       "                Name             Category  Region      County Facility URL  \\\n",
       "18       Parrot Hall  State Historic Site       4     Ontario          NaN   \n",
       "30  Rexford Aqueduct  State Historic Site      11  Sara/Schen          NaN   \n",
       "\n",
       "    Longitude   Latitude                                           Location  \\\n",
       "18 -77.008814  42.876774  {'latitude': '42.8767739578', 'longitude': '-7...   \n",
       "30 -73.887676  42.849265  {'latitude': '42.8492649622', 'longitude': '-7...   \n",
       "\n",
       "    NYS Municipal Boundaries  New York Zip Codes  Counties  \n",
       "18                       809                 233      2133  \n",
       "30                       107                  78      2141  "
      ]
     },
     "execution_count": 29,
     "metadata": {},
     "output_type": "execute_result"
    }
   ],
   "source": [
    "sample_incomplete_rows = reviews_df[reviews_df.isnull().any(axis=1)].head()\n",
    "sample_incomplete_rows"
   ]
  },
  {
   "cell_type": "code",
   "execution_count": null,
   "metadata": {},
   "outputs": [],
   "source": []
  }
 ],
 "metadata": {
  "kernelspec": {
   "display_name": "Python 3",
   "language": "python",
   "name": "python3"
  },
  "language_info": {
   "codemirror_mode": {
    "name": "ipython",
    "version": 3
   },
   "file_extension": ".py",
   "mimetype": "text/x-python",
   "name": "python",
   "nbconvert_exporter": "python",
   "pygments_lexer": "ipython3",
   "version": "3.7.3"
  }
 },
 "nbformat": 4,
 "nbformat_minor": 2
}
